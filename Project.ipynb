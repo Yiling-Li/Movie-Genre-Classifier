{
  "cells": [
    {
      "cell_type": "markdown",
      "metadata": {
        "id": "sVIRSltPfCYo"
      },
      "source": [
        "# CSC413 Final Project: Movie genre classification based on plot summaries"
      ]
    },
    {
      "cell_type": "markdown",
      "metadata": {
        "id": "2vaCt_hohEs-"
      },
      "source": [
        "## Table of Contents\n",
        "1. [Import Libraries](#Import-Libraries)\n",
        "2. [Import Data](#Import-Data)\n",
        "3. [Data Preprocessing and Cleaning](#Data-Preprocessing-and-Cleaning)\n",
        "4. [Model](#Model)\n",
        "5. [Training and Hyperparameter Tuning](#Training-and-Hyperparameter-Tuning)\n",
        "6. [Results and Ethical consideration](#Results-and-Ethical-consideration)"
      ]
    },
    {
      "cell_type": "markdown",
      "metadata": {
        "id": "tcWSyiPLjr1K"
      },
      "source": [
        "<a name=\"Import-Libraries\"></a>\n",
        "## 1. Import Libraries"
      ]
    },
    {
      "cell_type": "code",
      "execution_count": null,
      "metadata": {
        "id": "tI5NPnn_nc--"
      },
      "outputs": [],
      "source": [
        "import torch.nn as nn\n",
        "import torchtext\n",
        "import csv\n",
        "import random\n",
        "import torch\n",
        "import matplotlib.pyplot as plt"
      ]
    },
    {
      "cell_type": "markdown",
      "metadata": {
        "id": "Jcx2NQ_GmFzU"
      },
      "source": [
        "<a name=\"Import-Data\"></a>\n",
        "## 2. Import Data"
      ]
    },
    {
      "cell_type": "code",
      "execution_count": null,
      "metadata": {
        "id": "EQk4JP36neRN",
        "colab": {
          "base_uri": "https://localhost:8080/"
        },
        "outputId": "36e57d4d-ef48-476a-d513-e05e88286905"
      },
      "outputs": [
        {
          "output_type": "stream",
          "name": "stdout",
          "text": [
            "Mounted at /content/gdrive\n"
          ]
        }
      ],
      "source": [
        "from google.colab import drive\n",
        "drive.mount('/content/gdrive', force_remount=True)"
      ]
    },
    {
      "cell_type": "code",
      "execution_count": null,
      "metadata": {
        "id": "Q-Dxl69ph-05"
      },
      "outputs": [],
      "source": [
        "#path to summary data\n",
        "file_path = '/content/gdrive/My Drive/CSC413-FinalProject/MovieSummaries/plot_summaries.txt'"
      ]
    },
    {
      "cell_type": "markdown",
      "metadata": {
        "id": "JHFTVVL7eLUA"
      },
      "source": [
        "<a name=\"Data-Preprocessing-and-Cleaning\"></a>\n",
        "## 3. Data Preprocessing and Cleaning"
      ]
    },
    {
      "cell_type": "code",
      "execution_count": null,
      "metadata": {
        "id": "719oy67JgNj5",
        "colab": {
          "base_uri": "https://localhost:8080/"
        },
        "outputId": "74ba8680-4774-4563-a09c-4d6b7c55e601"
      },
      "outputs": [
        {
          "output_type": "stream",
          "name": "stdout",
          "text": [
            "[[23890098, \"shlykov  a hard-working taxi driver and lyosha  a saxophonist  develop a bizarre love-hate relationship  and despite their prejudices  realize they aren't so different after all.\"], [31186339, \"the nation of panem consists of a wealthy capitol and twelve poorer districts. as punishment for a past rebellion  each district must provide a boy and girl  between the ages of 12 and 18 selected by lottery  for the annual hunger games. the tributes must fight to the death in an arena; the sole survivor is rewarded with fame and wealth. in her first reaping  12-year-old primrose everdeen is chosen from district 12. her older sister katniss volunteers to take her place. peeta mellark  a baker's son who once gave katniss bread when she was starving  is the other district 12 tribute. katniss and peeta are taken to the capitol  accompanied by their frequently drunk mentor  past victor haymitch abernathy. he warns them about the  career  tributes who train intensively at special academies and almost always win. during a tv interview with caesar flickerman  peeta unexpectedly reveals his love for katniss. she is outraged  believing it to be a ploy to gain audience support  as  sponsors  may provide in-games gifts of food  medicine  and tools. however  she discovers peeta meant what he said. the televised games begin with half of the tributes killed in the first few minutes; katniss barely survives ignoring haymitch's advice to run away from the melee over the tempting supplies and weapons strewn in front of a structure called the cornucopia. peeta forms an uneasy alliance with the four careers. they later find katniss and corner her up a tree. rue  hiding in a nearby tree  draws her attention to a poisonous tracker jacker nest hanging from a branch. katniss drops it on her sleeping besiegers. they all scatter  except for glimmer  who is killed by the insects. hallucinating due to tracker jacker venom  katniss is warned to run away by peeta. rue cares for katniss for a couple of days until she recovers. meanwhile  the alliance has gathered all the supplies into a pile. katniss has rue draw them off  then destroys the stockpile by setting off the mines planted around it. furious  cato kills the boy assigned to guard it. as katniss runs from the scene  she hears rue calling her name. she finds rue trapped and releases her. marvel  a tribute from district 1  throws a spear at katniss  but she dodges the spear  causing it to stab rue in the stomach instead. katniss shoots him dead with an arrow. she then comforts the dying rue with a song. afterward  she gathers and arranges flowers around rue's body. when this is televised  it sparks a riot in rue's district 11. president snow summons seneca crane  the gamemaker  to express his displeasure at the way the games are turning out. since katniss and peeta have been presented to the public as  star-crossed lovers   haymitch is able to convince crane to make a rule change to avoid inciting further riots. it is announced that tributes from the same district can win as a pair. upon hearing this  katniss searches for peeta and finds him with an infected sword wound in the leg. she portrays herself as deeply in love with him and gains a sponsor's gift of soup. an announcer proclaims a feast  where the thing each survivor needs most will be provided. peeta begs her not to risk getting him medicine. katniss promises not to go  but after he falls asleep  she heads to the feast. clove ambushes her and pins her down. as clove gloats  thresh  the other district 11 tribute  kills clove after overhearing her tormenting katniss about killing rue. he spares katniss  just this time...for rue . the medicine works  keeping peeta mobile. foxface  the girl from district 5  dies from eating nightlock berries she stole from peeta; neither knew they are highly poisonous. crane changes the time of day in the arena to late at night and unleashes a pack of hound-like creatures to speed things up. they kill thresh and force katniss and peeta to flee to the roof of the cornucopia  where they encounter cato. after a battle  katniss wounds cato with an arrow and peeta hurls him to the creatures below. katniss shoots cato to spare him a prolonged death. with peeta and katniss apparently victorious  the rule change allowing two winners is suddenly revoked. peeta tells katniss to shoot him. instead  she gives him half of the nightlock. however  before they can commit suicide  they are hastily proclaimed the victors of the 74th hunger games. haymitch warns katniss that she has made powerful enemies after her display of defiance. she and peeta return to district 12  while crane is locked in a room with a bowl of nightlock berries  and president snow considers the situation.\"], [20663735, \"poovalli induchoodan  is sentenced for six years prison life for murdering his classmate. induchoodan  the only son of justice maranchery karunakara menon  was framed in the case by manapally madhavan nambiar  and his crony dysp sankaranarayanan  to take revenge on idealist judge menon who had earlier given jail sentence to manapally in a corruption case. induchoodan  who had achieved top rank in indian civil service loses the post and manapally sudheeran saikumar  enters the list of civil service trainees. we learn in flashback that it was ramakrishnan  the son of moopil nair   who had actually killed his classmate. six years passes by and manapally madhavan nambiar  now a former state minister  is dead and induchoodan  who is all rage at the gross injustice meted out to him - thus destroying his promising life  is released from prison. induchoodan thwarts manapally pavithran  from performing the funeral rituals of nambiar at bharathapuzha. many confrontations between induchoodan and manapally's henchmen follow. induchoodan also falls in love with anuradha aishwarya   the strong-willed and independent-minded daughter of mooppil nair. justice menon and his wife returns back to kerala to stay with induchoodan. there is an appearance of a girl named indulekha kanaka   who claims to be the daughter of justice menon. menon flatly refuses the claim and banishes her. forced by circumstances and at the instigation and help of manapally pavithran  she reluctantly come out open with the claim. induchoodan at first thrashes the protesters. but upon knowing the truth from chandrabhanu his uncle  he accepts the task of her protection in the capacity as elder brother. induchoodan decides to marry off indulekha to his good friend jayakrishnan . induchoodan has a confrontation with his father and prods him to accept mistake and acknowledge the parentage of indulekha. menon ultimately regrets and goes on to confess to his daughter. the very next day  when induchoodan returns to poovally  indulekha is found dead and menon is accused of murdering her. the whole act was planned by pavithran  who after killing indulekha  forces raman nair  to testify against menon in court. in court  nandagopal maarar   a close friend of induchoodan and a famous supreme court lawyer  appears for menon and manages to lay bare the murder plot and hidden intentions of other party . menon is judged innocent of the crime by court. after confronting pavithran and promising just retribution to the crime of killing indulekha  induchoodan returns to his father  who now shows remorse for all his actions including not believing in the innocence of his son. but while speaking to induchoodan  menon suffers a heart stroke and passes away. at menon's funeral  manapally pavithran arrives to poke fun at induchoodan and he also tries to carry out the postponed last rituals of his own father. induchoodan interrupts the ritual and avenges for the death of his sister and father by severely injuring pavithran. on his way back to peaceful life  induchoodan accepts anuradha as his life partner.\"], [2231378, \"the lemon drop kid   a new york city swindler  is illegally touting horses at a florida racetrack. after several successful hustles  the kid comes across a beautiful  but gullible  woman intending to bet a lot of money. the kid convinces her to switch her bet  employing a prefabricated con. unfortunately for the kid  the woman  belongs  to notorious gangster moose moran   as does the money. the kid's choice finishes dead last and a furious moran demands the kid provide him with $10 000  by christmas eve  or the kid  won't make it to new year's.  the kid decides to return to new york to try to come up with the money. he first tries his on-again  off-again girlfriend brainy baxter . however  when talk of long-term commitment arises  the kid quickly makes an escape. he next visits local crime boss  oxford  charley   with whom he has had past dealings. this falls through as charley is in serious tax trouble and does not particularly care for the kid anyway. as he leaves charley's establishment and is about to give up hope  the kid notices a cornerside santa claus and his kettle. thinking quickly  the kid fashions himself a santa suit and begins collecting donations. this fails as he is recognized by a passing policeman  who remembers his previous underhanded activity well. the kid lands in court  where he is convicted of collecting for a charity without a license and sentenced to ten days in jail . however  while in court  the kid learns where his scheme went wrong. after a short stay  brainy arrives to bail him out. he then sets about restarting his santa operation  this time with legitimate backing. to this end  he needs a charity to represent and a city license. the kid receives key inspiration when he remembers that nellie thursday   a kindly neighborhood resident  has been denied entry to a retirement home because of her jailed husband's criminal past as a safecracker. organizing other small-time new york swindlers and brainy  who is both surprised and charmed at the kid's apparent goodwill  the kid converts an abandoned casino  into the  nellie thursday home for old dolls . a small group of elderly women and makeshift amenities complete the project. the kid is able to receive the all-important city license. now free to collect  the kid and his compatriots dress as santa claus and position themselves throughout manhattan. the others are unaware that the kid plans to keep the money for himself to pay off moran. the scheme is a huge success  netting $2 000 in only a few days. an overjoyed brainy decides to leave her job as a dancer and look after the  home  full-time until after christmas. coincidentally  her employer is none other than  oxford  charley  whom brainy cheerfully informs of the effort. seeing a potential gold mine  charley decides to muscle in on the operation. reasoning that the nellie thursday home is  wherever nellie thursday is   charley and his crew kidnap the home's inhabitants  and move them to charley's mansion in nyack. the kid learns of this when he returns to the home after a late night to find the home deserted and money  gone. clued in by oversized oxford footprints in the snow  the kid and his friends pay charley a visit. here  charley reveals the true nature of the kid's scheme through a phone conversation with moose moran. the kid's accomplices are angry and move to confront him  but the kid manages to slip away. however  brainy tracks him down outside and voices her disgust at his actions. after a few days of stewing in self-pity   the kid is surprised to meet nellie  who has escaped charley's compound. he decides to recover the money  sneaking into charley's home in the guise of an elderly woman. he finds that charley and his crew are again moving the women  this time to a more secure location. using the heightened activity to his advantage  the kid enters charley's office and confronts him. after a brief struggle  the kid overpowers charley and makes off with the money  narrowly avoiding the thugs charley has sent after him. the ensuing chaos allows brainy and the others to escape. later that night  the kid returns to the original nellie thursday home to meet with moose moran . the deal appears to be in jeopardy as moran arrives with charley. charley demands that the kid reimburse him  which would leave too little for moran. however  the kid turns the tables by hitting a switch  revealing hidden casino tables. all are occupied  mainly by the escaped old dolls. the kid and his still-loyal friends hold off the gangsters as the police initiate a raid. moran and charley are arrested while the judge who sentenced the kid earlier warns that he will be  keeping an eye on him . the kid assures him that will not be necessary and his attention will lie on the home  which is going to become a reality. the night's main event begins as nellie's husband henry  free on parole  joyously reunites with his wife.\"], [595909, \"seventh-day adventist church pastor michael chamberlain  his wife lindy  their two sons  and their nine-week-old daughter azaria are on a camping holiday in the outback. with the baby sleeping in their tent  the family is enjoying a barbecue with their fellow campers when a cry is heard. lindy returns to the tent to check on azaria and is certain she sees a dingo with something in its mouth running off as she approaches. when she discovers the infant is missing  everyone joins forces to search for her  without success. it is assumed what lindy saw was the animal carrying off the child  and a subsequent inquest rules her account of events is true. the tide of public opinion soon turns against the chamberlains. for many  lindy seems too stoic  too cold-hearted  and too accepting of the disaster that has befallen her. gossip about her begins to swell and soon is accepted as statements of fact. the couple's beliefs are not widely practised in the country  and when the media report a rumour that the name azaria means  sacrifice in the wilderness    the public is quick to believe they decapitated their baby with a pair of scissors as part of a bizarre religious rite. law-enforcement officials find new witnesses  forensics experts  and a lot of circumstantial evidence—including a small wooden coffin michael uses as a receptacle for his parishioners' packs of un-smoked cigarettes—and reopen the investigation  and eventually lindy is charged with murder. seven months pregnant  she ignores her attorneys' advice to play on the jury's sympathy and appears emotionless on the stand  convincing onlookers she is guilty of the crime of which she is accused. as the trial progresses  michael's faith in his religion and his belief in his wife disintegrate  and he stumbles through his testimony  suggesting he is concealing the truth. in october 1982  lindy is found guilty and sentenced to life imprisonment with hard labour  while michael is found guilty as an accessory and given an 18-month suspended sentence. more than three years later  while searching for the body of an english tourist who fell from uluru  police discover a small item of clothing that is identified as the jacket lindy had insisted azaria was wearing over her jumpsuit  which had been recovered early in the investigation. she is immediately released from prison  the case reopened and all convictions against the chamberlains overturned.\"], [5272176, \"the president is on his way to give a speech. while he is traveling there a man shows up with a camera. a reporter tries to ask a member of the secret service a question. when the president enters he is shot by the man with the camera. the president's main bodyguard  alex thomas   is grazed by the bullet that hits the president. the shooter is gunned down by alex and other secret service agents. the president dies at the hospital. kate crawford   an investigative journalist  starts asking questions about the assassination. anyone she questions is killed. she goes to alex thomas's house to tell him what is happening. as they head to his boat  thomas sees some men hiding in the bushes. he throws kate into the water and dives in. thomas jumps out of the water to kill two of the hitmen while a third hitman drives off to inform his boss what happened. they are able to link the hitmen to a man called jack baldwin . agent thomas and other secret service members attack the location of jack baldwin. baldwin escapes but is later caught by thomas. thomas and crawford are suspicious of vaughan stevens   agent thomas's boss  who had previous links to baldwin. while reviewing film of the assassination at his house  thomas discovers that stevens handed the assassin a gun during the president's entrance. thomas leaves to find stevens while kate stays at his house. when thomas arrives at stevens' home he finds him dead. before entering  thomas sees a car leaving the house. he then receives a call that baldwin has escaped. kate is attacked by baldwin but thomas arrives and kills baldwin. thomas arrives at the first lady's  home to see the car that left steven's house pulling away. thomas discovers that the first lady wanted her husband killed - due to the fact that the president was being unfaithful to her. a few weeks later kate and thomas have dinner. thomas says that he still doesn't know who wanted the president dead.\"], [1952976, \"the film opens in 1974  as a young girl  dahlia  stands outside after school in the rain  waiting for her mother. flash forward to 2005  we see a grown-up dahlia  in the midst of a bitter mediation with ex-husband  kyle   over custody of their daughter  cecilia . kyle wants cecilia to live closer to his apartment in jersey city  but dahlia wants to move to roosevelt island  where she has found a good school. kyle threatens to sue for full custody because he feels the distance is too great. he also claims that dahlia is  mentally unstable.  dahlia and cecilia see an apartment in a complex on roosevelt island  which is just a few blocks from cecilia's new school. the superintendent of the dilapidated building is mr. veeck . the manager is mr. murray . during the tour  cecilia sneaks to the roof where she finds a hello kitty backpack near a large water tank. they leave the bag with veeck  and murray promises cecilia that she can have it if no one claims it. cecilia  who had disliked the apartment  now wants desperately to live there. dahlia agrees to move in. shortly after  the bedroom ceiling begins to leak dark water. the source is the apartment above  10f  where the rimsky family lived up until a month ago. dahlia enters 10f and finds it flooded  with dark water flowing from every faucet  the walls and toilet. she finds a family portrait of the former tenants—a mother  father  and a girl cecilia's age. dahlia complains to both veeck and murray about the water  but the former does little about it despite the insistence of the latter. dahlia soon has dreams of a little girl who appears to be cecilia returning from a visit to her father's home  but the girl's appearance changes every time dahlia looks away  so that she looks like the girl in the portrait in 10f. cecilia has started school  but according to her new teacher   she isn't fitting in and is spending too much time with an imaginary friend  named natasha. a psychologist is recommended  but dahlia declines and tells cecilia to ignore natasha. although veeck had said it was claimed  dahlia discovers the hello kitty backpack in the laundry room's garbage. cecilia later finds it in the elevator. the name in the backpack reads  natasha rimsky . the ceiling  shoddily patched by veeck  leaks again. at school  cecilia appears to get into a fight with natasha  who appears to control her hand while painting. she's taken to the girls' bathroom where she passes out after dark water gushes from the toilets and sinks. dahlia  who is meeting with her lawyer  can't be reached  so kyle picks her up and takes her to his apartment. dahlia breaks down when she can't find her daughter and has strange dreams. these lead her to the roof and up the ladder of the water tank  where she finds natasha's body. when police arrive  they discover that natasha's father thought she was with her mother  while the mother thought the girl was with her father. the girl was left alone in the abandoned apartment and fell into the water tank  which veeck had left open. he was aware of her body  which was why he refused to fix the water problem plaguing the complex. veeck is arrested and murray is questioned. dahlia agrees to move closer to kyle so shared custody will go easier. as dahlia packs  cecilia is taking a bath. a girl in a hooded bathrobe comes out of the bathroom  wanting dahlia to read to her. when she hears voices in the bathroom  she realizes that the girl is natasha. natasha begs dahlia not to leave her  but dahlia rushes into the bathroom to save cecilia. natasha then locks cecilia in the shower compartment and holds her underwater. dahlia pleads with natasha  promising to be her mother forever. natasha lets cecilia go and floods the apartment  causing dahlia to die from drowning. her and natasha's spirits are shown walking down the hallway. kyle picks up cecilia from the police station. weeks later  the two go back to pick up the rest of her stuff. cecilia has a flashback of her and her mother looking at pictures together  and in the elevator  her mother's ghost braids her hair and comforts her—telling her she will always be there. kyle  momentarily horrified with a malfunction in the elevator  the weird behavior of his daughter  and perhaps noticing her hair had been braided  finally takes her to his apartment in jersey city.\"], [24225279, \"the story begins with hannah  a young jewish teen  as she is completing her senior year of high school. her small neighborhood in brooklyn is falling apart and sing  is one of the only traditions keeping the neighborhood alive. newly arrived teacher  miss lombardo grew up in the neighborhood but returned to be their sing leader. one cold christmas night  miss lombardo is leaving a neighborhood party when a young man hails her a cab  then attempts to mug her. in self defense  she bites his hand to release his grip and he screams in pain and terror  quickly making an exit. the cab driver jokes about not starting the meter yet. on the first day of school  miss lombardo runs into difficulty when her students are uninterested and misbehaved. one such student was named dominic who gets scolded for bringing stolen watches to school grounds and putting his feet up on the desk. on the day of sing leader elections  miss lombardo recognizes dominic as her mugger by the bandage on his hand and decides to blackmail him into being co-sing leader of the senior class along with hannah  who was rightfully elected. the school kids work hard to plan their sing productions. hannah and dominic clash along the way as hannah uses traditional sing planning strategies while dominic wants to introduce the flavor of the youth in the neighborhood. in order to put dominic and hannah on the same page  miss lombardo suggests that hannah accompany dominic to a local club. at first  the two are equally hesitant but hannah agrees on the terms that it is not a date. however  by the end of the night  hannah uses dominic to make her ex boyfriend  mickey  jealous  and due to this  hannah and dominic start seeing each other in a different light. dominic accompanies hannah on her walk home and the two share a romantic kiss. once the two are finally uniting and getting along  the dept. of education informs the school that it will close its doors forever at the end of this semester and therefore  there will not be enough resources for them to complete this year's sing. this fuels the kids to work even harder on their productions and the neighborhood comes together even more to help finance the show  despite the school authorities' ban. ironically  just as things are starting to look up  dominic reluctantly accompanies his brother on a robbery of hannah's mother's diner  their sole source of income which already was at risk of failure due to the school's upcoming closure. a classmate saw dominic standing outside the diner at the time of the crime and informed hannah of what he saw. devastated  hannah confronts dominic and he promises to get the money back for her. he then steals the money back from his brother and returns it to the diner  restoring hannah's faith in him. the recent events had discouraged dominic from fulfilling his co-sing leader duties and he had been skipping out on rehearsals. in a moment of great need as the senior's main performer falls unconscious  dominic steps in to save the show. he sheds his bad-boy demeanor and exceeds all expectations. the underclassmen and seniors perform to a record-high sold out audience. at the end of the show  hannah makes a moving speech motivating the community to rejoice and always remember that despite compromising circumstances  they completed a successful sing and proved their community's worth.\"], [2462689, \"infuriated at being told to write one final column after being laid off from her newspaper job  ann mitchell  prints a letter from a fictional unemployed  john doe  threatening suicide on christmas eve in protest of society's ills. when the note causes a sensation and the paper's competition suspects a fraud and starts to investigate  the newspaper editor rehires mitchell who comes up with a scheme of hiding the fictional nature of  john doe  while exploiting the sensation caused by the fake letter to boost the newspaper's sales  for which she demands a bonus equal to 8 months' pay. after reviewing a number of derelicts who have shown up at the paper claiming to have penned the original suicide letter  mitchell and editor henry connell  hire john willoughby   a former baseball player and tramp who is in need of money to repair his injured arm  to play john doe. mitchell now starts to pen an article series in doe's name  elaborating on the letter's ideas of society's disregard of people in need. willoughby gets $50  a new suit of clothes  and a plush hotel suite with his tramp friend   who launches into an extended diatribe against  the heelots   lots of heels who incessantly focus on getting money from others. willoughby is hired to give radio speeches  guided by mitchell who is promised $100 a week to write his speeches  paid by the newspaper's publisher  d.b. norton edward arnold . willoughby turns down a $5 000 bribe to admit the whole thing was a publicity stunt  gives mitchell's speech  and dashes off to the countryside with  the colonel . they ride the rails  playing the harmonica and ocarina until they show up in millsville  where john doe is recognized at a diner. he's brought to city hall  where he's met by hanson  who gives a five-minute monologue about how he was inspired to start a local john doe club. the john doe philosophy spreads across the country  developing into a broad grassroots movement whose simple slogan is   be a better neighbor . far from being an altruistic philanthropist  however  norton plans to channel the support for doe into support for his own national political ambitions. as a culmination of this plan  norton has instructed mitchell to write a speech for willoughby in which he announces the foundation of a new political party and endorses norton as its presidential candidate. when willoughby  who has come to believe in the john doe philosophy himself  realizes that he is being used  he tries to expose the plot  but is first stymied in his attempts to talk his own mind to a nationwide radio audience at the rally instead of reading the prepared speech  and then exposed as a fake by norton  who claims to have been deceived  like everyone else  by the staff of the newspaper. frustrated by his failure  willoughby intends to commit suicide by jumping from the roof of the city hall on christmas eve  as indicated in the original john doe letter. only the intervention of mitchell and followers of the john doe clubs persuades him to renege on his threat to kill himself. at this point in the movie  a reference to jesus christ is made  that a historical  john doe  has already died for the sake of humanity. the film ends with connell turning to norton and saying   there you are  norton  the people  try and lick that\"], [20532852, \"a line of people  drool at the window of the shop of market butcher buzz buzzard. a short series of gags ensues about how buzz dishonestly   jacks  up all his prices. since woody is broke as usual  he sneaks in and gets thrown out by buzz. on the way out  woody collides with a bottle of invisible ink and turns partially invisible. buzz can only see parts of woody's body  and  in a somewhat gruesome scene  thinks that he's been dismembered  so he sweeps him into a trap door to get rid of him. when woody awakes  he realizes what is happening  and he douses himself with the rest of the ink in order to pose as a ghost.\"]]\n",
            "Number of summaries:  42306\n"
          ]
        }
      ],
      "source": [
        "#regular expression to remove irrelevant info from summaries\n",
        "#   e.g. {{expand section}}, hyperlinks\n",
        "import re\n",
        "\n",
        "\n",
        "#read the summaries from the file. Split summaries by word, so we can get wordcount.\n",
        "#want to get the average word count of a movie summary.\n",
        "\n",
        "\n",
        "#list of IDs and summaries. each elm is [ID, summary] form\n",
        "ID_summary = []\n",
        "\n",
        "\n",
        "total_words = 0 #get the total words\n",
        "for line in open(file_path):\n",
        "\n",
        "    #curr_summary is list of 2 lists. 1st list is the movie ID, 2nd list is a list of words from the plot summary.\n",
        "    #curr_summary = []\n",
        "    split_id = line.split('\\t') #get the movie ID\n",
        "    curr_ID = int(split_id[0])\n",
        "    #ID_list.append([split_id[0]]) #add movie ID as 1st list in curr_summary\n",
        "    plot_summary = split_id[1]\n",
        "    #print(curr_summary)\n",
        "    \n",
        "\n",
        "    #now clean up plot summaries\n",
        "    \n",
        "    #remove {...} tags, with at least 1 occurrence of { and } each (e.g. {{expand}})\n",
        "    plot_summary = re.sub('{+.*?}+', '', plot_summary) \n",
        "    #remove tags of the form <...} or <...}} (e.g. \"<ref http:.....}}\")\n",
        "    plot_summary = re.sub('<.*?}+', '', plot_summary) \n",
        "    #remove the {{...> tags\n",
        "    plot_summary = re.sub(\"{+.*?>\", \"\", plot_summary) \n",
        "    #remove '{{...|...|' information (e.g. \"{{plot|section|date\")\n",
        "    plot_summary = re.sub('{+([^ ]+ *[^ ]*\\|)+[^ ]*', '', plot_summary) \n",
        "    #remove |...}} or |...}\n",
        "    plot_summary = re.sub('\\|.*?}+', '', plot_summary) \n",
        "    #remove '...} ' or '...}} ' info from start of summary (e.g. \"December 2007}} \")\n",
        "    plot_summary = re.sub('\\A.*?}+(.){1}', '', plot_summary) \n",
        "\n",
        "    #remove \"([[\"\n",
        "    plot_summary = re.sub(\"\\(\\[\\[\", \"\", plot_summary) \n",
        "   \n",
        "    #remove \"{...)\" and \"(...}\"\n",
        "    plot_summary = re.sub('\\(.*?}', '', plot_summary)\n",
        "    plot_summary = re.sub('{.*?\\)', '', plot_summary)\n",
        "\n",
        "    #remove remaining links\n",
        "    plot_summary = re.sub(\"http[^ ]+\", '', plot_summary)\n",
        "\n",
        "    #remove \"[[.. : . |...|...>\"\n",
        "    # - first word after [[ is followed by :\n",
        "    # - must have a | occur somewhere after the : \n",
        "    # - after that, \"...|\" or may not occur, where ... has no \" \"\n",
        "    # - string may or may nor end with \"...>\", where ... has no \" \"\n",
        "    # (e.g. \"[[Image: hulk and thor |abc|def|hij/>\")\n",
        "    plot_summary = re.sub(\"\\[\\[([^ ]*?):(.*?)\\|{1}(.*?\\|)*((.*?)>)*\", '', plot_summary)\n",
        "\n",
        "    #remove <...> tags (e.g. <gallery> )\n",
        "    plot_summary = re.sub(\"<(.*?)>\", '', plot_summary)\n",
        "\n",
        "    #remove periods. make whole summary one sentence\n",
        "    #plot_summary = plot_summary.replace(\".\", \" \")\n",
        "    #remove ! \n",
        "    plot_summary = plot_summary.replace(\"!\", ' ')\n",
        "    #remove ?\n",
        "    plot_summary = plot_summary.replace(\"?\", ' ')\n",
        "    #remove ,\n",
        "    plot_summary = plot_summary.replace(\",\", \" \")\n",
        "    #remove \"\"\n",
        "    plot_summary = plot_summary.replace('\"', \" \")\n",
        "\n",
        "    \n",
        "\n",
        "\n",
        "\n",
        "\n",
        "    plot_summary = plot_summary.strip() #remove leading and trailing whitespace\n",
        "    plot_summary = plot_summary.lower() #make all characters lower case\n",
        "\n",
        "    \n",
        "    ID_summary.append([curr_ID, plot_summary]) \n",
        "print(ID_summary[:10])\n",
        "print(\"Number of summaries: \",len(ID_summary))"
      ]
    },
    {
      "cell_type": "code",
      "execution_count": null,
      "metadata": {
        "id": "otejG9rKgh8l"
      },
      "outputs": [],
      "source": [
        "#total word count and avg word count after removing tags, links, etc.,\n",
        "# and discarding summaries below min word count. keep summaries that are 'long' enough.\n",
        "ID_summary_long = []\n",
        "ID_long = [] #all the IDs of the movies we keep\n",
        "min_wc = 8\n",
        "total_words = 0 #get the total words\n",
        "for summary in ID_summary:\n",
        "    wc = len(summary[1].split())\n",
        "\n",
        "    #track total word count\n",
        "    if wc >= 8:\n",
        "      ID_summary_long.append(summary)\n",
        "      ID_long.append(summary[0])\n",
        "      total_words += wc\n",
        "    \n",
        "\n",
        "\n"
      ]
    },
    {
      "cell_type": "code",
      "execution_count": null,
      "metadata": {
        "id": "msEwOWk7gixd",
        "colab": {
          "base_uri": "https://localhost:8080/"
        },
        "outputId": "2633f676-3e20-42b7-85b0-5c63a2a83c5a"
      },
      "outputs": [
        {
          "output_type": "stream",
          "name": "stderr",
          "text": [
            ".vector_cache/glove.6B.zip: 862MB [02:40, 5.36MB/s]                           \n",
            "100%|█████████▉| 399999/400000 [00:10<00:00, 39966.61it/s]\n"
          ]
        }
      ],
      "source": [
        "\n",
        "glove = torchtext.vocab.GloVe(name=\"6B\", dim=50)\n",
        "\n",
        "#dictionary mapping movie ID to glove indices of plot summary words\n",
        "movie_ID_to_glove_idxs = {}\n",
        "\n",
        "def get_summary_words(glove_vector):\n",
        "    dataset = []\n",
        "    for elm in ID_summary_long:\n",
        "        plot_summary = elm[1]\n",
        "        idxs = [glove_vector.stoi[w]        # lookup the index of word\n",
        "                    for w in plot_summary.split()\n",
        "                    #stoi is str to index. itos is index to str\n",
        "                    if w in glove_vector.stoi] # keep words that has an embedding\n",
        "        # ignore plot summaries without any word with an embedding\n",
        "        if not idxs: \n",
        "            continue\n",
        "\n",
        "        idxs = torch.tensor(idxs) # convert indices list to pytorch tensor\n",
        "        ID = torch.tensor(elm[0]).long()\n",
        "        \n",
        "        \n",
        "        movie_ID_to_glove_idxs[elm[0]] = idxs\n",
        "        dataset.append((ID, idxs))\n",
        "       \n",
        "    return dataset\n",
        "\n",
        "dataset = get_summary_words(glove)"
      ]
    },
    {
      "cell_type": "code",
      "execution_count": null,
      "metadata": {
        "id": "s_A8HtpKgq6M"
      },
      "outputs": [],
      "source": [
        "\n",
        "\n",
        "#Now look at genre information\n",
        "\t\n",
        "metadata = []\n",
        "import csv\n",
        "with open(\"/content/gdrive/My Drive/CSC413-FinalProject/MovieSummaries/movie.metadata.tsv\") as file:\n",
        "    tsv_file = csv.reader(file, delimiter=\"\\t\")\n",
        "    for line in tsv_file:\n",
        "        metadata.append(line)\n",
        "#each entry in metadata array is an array of strings representing the metadata for 1 movie\n"
      ]
    },
    {
      "cell_type": "code",
      "execution_count": null,
      "metadata": {
        "id": "CxMeS1BEgupU"
      },
      "outputs": [],
      "source": [
        "#count how many genres in total, and average number of genres per movie.\n",
        "#NOTE: some movies have no genres listed (genre is {} in metadata)\n",
        "from collections import Counter\n",
        "\n",
        "#converts movie ID to str genre\n",
        "movie_ID_to_str_genre = {}\n",
        "#dictionary to get movie title and plot from the movie ID\n",
        "movie_ID_to_title_plot = {}\n",
        "genres_count = Counter()\n",
        "\n",
        "#For data preprocessing: extract the first genre listed for each movie, and the movie ID\n",
        "for i in range(len(metadata)):\n",
        "\n",
        "  \n",
        "  movie_title = metadata[i][2]\n",
        "  movie_wiki_id = int(metadata[i][0]) #wikipedia movie id\n",
        "  \n",
        "  #only get the genre if the plot summary is long enough\n",
        "  if movie_wiki_id in ID_long:\n",
        "  \n",
        "    #genres_by_movie.append([movie_wiki_id, movie_title])\n",
        "    genres_metadata = metadata[i][8]\n",
        "\n",
        "    split_by_genre = (genres_metadata.split(',')) #this gets the genre metadata as an array of strings\n",
        "    \n",
        "    #genre label for current movie\n",
        "    genre_label = split_by_genre[0]\n",
        "      \n",
        "    #need to strip movie ID and '{' '}' characters\n",
        "    #Don't count movies that have no genre info (i.e. genre is {})\n",
        "    if genres_metadata != \"{}\":\n",
        "        genre_label = re.sub('.*/m/.+\":', '', genre_label) #remove Freebase Movie ID\n",
        "        #print(\"after stripping movie ID: \", genre)\n",
        "        #still need to remove quotations and other characters on beginning and end of the genre\n",
        "        genre_label = genre_label.strip(' ') #remove trailing and leading white spaces\n",
        "        genre_label = re.sub('\\A{{1}', '', genre_label) #remove leading {\n",
        "        genre_label = re.sub('\\A\"{1}', '', genre_label) #remove leading \"\n",
        "        genre_label = re.sub('}{1}\\Z', '', genre_label) #remove trailing } (from last genre in the list)\n",
        "        genre_label = re.sub('\"{1}\\Z', '', genre_label) #remove trailing \"\n",
        "\n",
        "\n",
        "    \n",
        "    \n",
        "    \n",
        "        movie_ID_to_title_plot[movie_wiki_id] = [movie_title]\n",
        "\n",
        "        #add genre to our counter\n",
        "        genres_count.update({genre_label: 1})\n",
        "\n",
        "        #add the current movie's genres to the dictionary of movie_ID_to_genre\n",
        "        movie_ID_to_str_genre[movie_wiki_id] = genre_label\n",
        "        #genres_by_movie.append([movie_wiki_id, genre_label])\n",
        "\n",
        "#Add the plot summaries to the movie_ID_to_title_plot dictionary\n",
        "for i in range(len(ID_summary_long)):\n",
        "  ID = ID_summary_long[i][0]\n",
        "  if ID in tuple(movie_ID_to_title_plot.keys()):\n",
        "    movie_ID_to_title_plot[ID] += [ID_summary_long[i][1]]\n",
        "\n"
      ]
    },
    {
      "cell_type": "markdown",
      "metadata": {
        "id": "eFiaedIgRDvE"
      },
      "source": [
        "Get the top 10 most frequent genres as strings, store them in a list."
      ]
    },
    {
      "cell_type": "code",
      "execution_count": null,
      "metadata": {
        "id": "KZoDuJ5hRBfa",
        "colab": {
          "base_uri": "https://localhost:8080/"
        },
        "outputId": "59e753ba-7df7-4a18-8eaa-6ebe344eed57"
      },
      "outputs": [
        {
          "output_type": "stream",
          "name": "stdout",
          "text": [
            "['Thriller', 'Drama', 'Crime Fiction', 'Short Film', 'Romantic comedy']\n"
          ]
        }
      ],
      "source": [
        "#list of top 10 genres as string\n",
        "top_genres = []\n",
        "\n",
        "for elm in Counter(genres_count).most_common(5):\n",
        "  top_genres.append(elm[0])\n",
        "\n",
        "print(top_genres)\n"
      ]
    },
    {
      "cell_type": "code",
      "execution_count": null,
      "metadata": {
        "id": "EnUb8Z9bRKS5"
      },
      "outputs": [],
      "source": [
        "genre_labels_stoi = {}\n",
        "genre_labels_itos = {}\n",
        "\n",
        "for str_genre in top_genres:\n",
        "  #print(\"key: \", key, \"  label: \", len(genre_labels_stoi))\n",
        "  genre_labels_stoi[str_genre] = len(genre_labels_stoi)\n",
        "\n",
        "for str_genre in genre_labels_stoi.keys():\n",
        "  int_label = genre_labels_stoi[str_genre] #the int label of the genre\n",
        "  genre_labels_itos[int_label] = str_genre"
      ]
    },
    {
      "cell_type": "markdown",
      "metadata": {
        "id": "05b-BugMR01I"
      },
      "source": [
        "Make a dataset with only movies from the top 10 genres."
      ]
    },
    {
      "cell_type": "code",
      "execution_count": null,
      "metadata": {
        "id": "m3RxnuMSg5hG"
      },
      "outputs": [],
      "source": [
        "#use genre_labels_stoi to replace the str labels in each movie genre with int.\n",
        "new_dataset = []\n",
        "\n",
        "for (movie_ID, str_genre) in movie_ID_to_str_genre.items():\n",
        "  int_genre_label = 0\n",
        "\n",
        "  #if the str_genre is not a top 10 genre, we ignore it.\n",
        "  #we only add the movie to new_dataset if it is from a top 10 genre.\n",
        "  if str_genre in top_genres:\n",
        "    int_genre_label = torch.tensor(genre_labels_stoi[str_genre]).long()\n",
        "    movie_plot = movie_ID_to_glove_idxs[movie_ID]\n",
        "    new_dataset.append((int_genre_label, movie_plot, torch.tensor(movie_ID).long()))\n",
        "\n"
      ]
    },
    {
      "cell_type": "markdown",
      "metadata": {
        "id": "2xuEuYpFwCKy"
      },
      "source": [
        "Sort the new_dataset by genre, so movies from same genre are grouped together.\n"
      ]
    },
    {
      "cell_type": "code",
      "execution_count": null,
      "metadata": {
        "id": "2QNxvX8wg937"
      },
      "outputs": [],
      "source": [
        "#sort the new_train set by genre. so movies with same genre are grouped together\n",
        "from operator import itemgetter\n",
        "sorted_dataset_by_genre = sorted(new_dataset, key=itemgetter(0))\n",
        "len(sorted_dataset_by_genre)\n",
        "#sorted_dataset_by_genre"
      ]
    },
    {
      "cell_type": "markdown",
      "metadata": {
        "id": "zcs3Y8PySW3S"
      },
      "source": [
        "Count of movies per genre for the sorted_dataset_by_genre (contains sorted list of movies only from top 10 genres)."
      ]
    },
    {
      "cell_type": "code",
      "execution_count": null,
      "metadata": {
        "id": "R4ycPslxwOAv"
      },
      "outputs": [],
      "source": [
        "genres_count_top = Counter()\n",
        "\n",
        "for movie in sorted_dataset_by_genre:\n",
        "  str_genre = genre_labels_itos[movie[0].item()]\n",
        "  genres_count_top.update({str_genre:1})"
      ]
    },
    {
      "cell_type": "code",
      "execution_count": null,
      "metadata": {
        "colab": {
          "base_uri": "https://localhost:8080/"
        },
        "id": "2t38CS88wULu",
        "outputId": "0326c595-1cf2-4a83-c815-0934995031cc"
      },
      "outputs": [
        {
          "output_type": "execute_result",
          "data": {
            "text/plain": [
              "Counter({'Crime Fiction': 2928,\n",
              "         'Drama': 5289,\n",
              "         'Romantic comedy': 1930,\n",
              "         'Short Film': 2919,\n",
              "         'Thriller': 5339})"
            ]
          },
          "metadata": {},
          "execution_count": 14
        }
      ],
      "source": [
        "genres_count_top"
      ]
    },
    {
      "cell_type": "markdown",
      "metadata": {
        "id": "wI83m3X6Sq6x"
      },
      "source": [
        "We want 900 movies from each of the top 10 genres."
      ]
    },
    {
      "cell_type": "code",
      "execution_count": null,
      "metadata": {
        "id": "yt0dSrQiSp3a"
      },
      "outputs": [],
      "source": [
        "\n",
        "total_movies_processed = 0\n",
        "#the number of movies we have in the current genre\n",
        "movies_in_curr_genre = 0 \n",
        "\n",
        "#the dataset with 900 movies from each top 10 genre\n",
        "final_dataset = []\n",
        "\n",
        "for i in range(5):\n",
        "  #int label of the current genre we are looking at\n",
        "  curr_genre_int = i\n",
        "  final_dataset += sorted_dataset_by_genre[total_movies_processed:total_movies_processed+500]\n",
        "  total_movies_processed += genres_count_top[genre_labels_itos[curr_genre_int]]\n",
        "\n"
      ]
    },
    {
      "cell_type": "markdown",
      "metadata": {
        "id": "o1RtmsggS10B"
      },
      "source": [
        "Check the number of movies per genre in our final dataset:\n",
        "\n"
      ]
    },
    {
      "cell_type": "code",
      "execution_count": null,
      "metadata": {
        "id": "MrR_nPN-S0ag",
        "colab": {
          "base_uri": "https://localhost:8080/"
        },
        "outputId": "7331404d-db0d-4a18-b178-5cab6a93972f"
      },
      "outputs": [
        {
          "output_type": "execute_result",
          "data": {
            "text/plain": [
              "Counter({'Crime Fiction': 500,\n",
              "         'Drama': 500,\n",
              "         'Romantic comedy': 500,\n",
              "         'Short Film': 500,\n",
              "         'Thriller': 500})"
            ]
          },
          "metadata": {},
          "execution_count": 16
        }
      ],
      "source": [
        "genres_count_final = Counter()\n",
        "\n",
        "for movie in final_dataset:\n",
        "  str_genre = genre_labels_itos[movie[0].item()]\n",
        "  genres_count_final.update({str_genre:1})\n",
        "genres_count_final"
      ]
    },
    {
      "cell_type": "markdown",
      "metadata": {
        "id": "hP3qnshjSvnj"
      },
      "source": [
        "Now we will split the data by splitting 60% training set, 20% validation set, 20% test set. We will split like this for each genre."
      ]
    },
    {
      "cell_type": "code",
      "execution_count": null,
      "metadata": {
        "id": "a5pv3suxv6R4"
      },
      "outputs": [],
      "source": [
        "#split the sorted_dataset_by_genre into training, valid, and test sets\n",
        "def split_data(dataset):\n",
        "  train, valid, test = [], [], []\n",
        "\n",
        "  movies_processed_so_far = 0\n",
        "  total_movies_in_genre = 0\n",
        "\n",
        "  #iterate through movie data in dataset\n",
        "  for i in range(5):\n",
        "      curr_genre_int = i\n",
        "      curr_genre_str = genre_labels_itos[curr_genre_int]\n",
        "    \n",
        "\n",
        "      total_movies_in_genre = genres_count_final[curr_genre_str]\n",
        "      #print(\"genre: \", curr_genre_str, \"  total movies: \", total_movies_in_genre)\n",
        "      training_set_size = (total_movies_in_genre * 6) // 10\n",
        "      #print(\"training set size: \", training_set_size)\n",
        "\n",
        "      train += dataset[movies_processed_so_far: movies_processed_so_far + training_set_size]\n",
        "\n",
        "      movies_processed_so_far += training_set_size\n",
        "      #print(movies_processed_so_far)\n",
        "\n",
        "      #print(\"--------\\ntotal in genre: \", total_movies_in_genre)\n",
        "      #print(\"test set size:\", training_set_size)\n",
        "      valid_size = (total_movies_in_genre - training_set_size)//2\n",
        "      valid += dataset[movies_processed_so_far: movies_processed_so_far + valid_size]\n",
        "\n",
        "      movies_processed_so_far += valid_size\n",
        "\n",
        "      #print(\"valid size: \", valid_size )\n",
        "      test_size = total_movies_in_genre - valid_size - training_set_size\n",
        "      test += dataset[movies_processed_so_far: movies_processed_so_far + test_size]\n",
        "      #movies_processed_so_far += test_size\n",
        "      #print(\"test size: \", test_size)\n",
        "      movies_processed_so_far += test_size\n",
        "\n",
        "  return train, valid, test\n",
        "\n",
        "train, valid, test = split_data(final_dataset)\n",
        "\n",
        "  \n",
        "    "
      ]
    },
    {
      "cell_type": "code",
      "execution_count": null,
      "metadata": {
        "id": "gGtEg3l4woot",
        "colab": {
          "base_uri": "https://localhost:8080/"
        },
        "outputId": "1b218e73-7f2c-42d0-9173-8c1dc7776d93"
      },
      "outputs": [
        {
          "output_type": "stream",
          "name": "stdout",
          "text": [
            "1500\n",
            "500\n",
            "500\n"
          ]
        }
      ],
      "source": [
        "print(len(train))\n",
        "print(len(valid))\n",
        "print(len(test))"
      ]
    },
    {
      "cell_type": "code",
      "execution_count": null,
      "metadata": {
        "id": "bjuBETR-wDQv"
      },
      "outputs": [],
      "source": [
        "\n",
        "#count of genres in training data \n",
        "genres_count_train = Counter()\n",
        "for movie_data in train:\n",
        "  genre_str = genre_labels_itos[movie_data[0].item()]\n",
        "  genres_count_train.update({genre_str:1})\n"
      ]
    },
    {
      "cell_type": "markdown",
      "metadata": {
        "id": "JaF26SAmTNl1"
      },
      "source": [
        "Make the small dataset for overfitting. We will get 2 movies from each genre."
      ]
    },
    {
      "cell_type": "code",
      "execution_count": null,
      "metadata": {
        "id": "CGtI2B3Iw9ww"
      },
      "outputs": [],
      "source": [
        "\n",
        "\n",
        "\n",
        "def make_small_dataset(train):\n",
        "  small_dataset = []\n",
        "  movies_processed_so_far = 0\n",
        "\n",
        "  for i in range(5):\n",
        "    small_dataset += train[movies_processed_so_far:movies_processed_so_far+4]\n",
        "    movies_processed_so_far += genres_count_train[genre_labels_itos[i]]\n",
        "  \n",
        "  return small_dataset\n",
        "small_dataset = make_small_dataset(train)\n",
        "\n",
        "\n"
      ]
    },
    {
      "cell_type": "code",
      "execution_count": null,
      "metadata": {
        "colab": {
          "base_uri": "https://localhost:8080/"
        },
        "id": "iS88MFLew-mi",
        "outputId": "742b94e3-1f77-42c0-ec7f-3d9cbb9388cf"
      },
      "outputs": [
        {
          "output_type": "execute_result",
          "data": {
            "text/plain": [
              "20"
            ]
          },
          "metadata": {},
          "execution_count": 100
        }
      ],
      "source": [
        "len(small_dataset)"
      ]
    },
    {
      "cell_type": "code",
      "execution_count": null,
      "metadata": {
        "id": "6Za9wg1gneu1"
      },
      "outputs": [],
      "source": [
        ""
      ]
    },
    {
      "cell_type": "markdown",
      "metadata": {
        "id": "x7dx7Jr4mpRg"
      },
      "source": [
        "<a name=\"Model\"></a>\n",
        "## 4. Model"
      ]
    },
    {
      "cell_type": "markdown",
      "metadata": {
        "id": "QGs8EJIQgfKq"
      },
      "source": [
        "### 4.1 Embedding"
      ]
    },
    {
      "cell_type": "code",
      "execution_count": null,
      "metadata": {
        "id": "mBth6yWQgzTY"
      },
      "outputs": [],
      "source": [
        "# Create an `nn.Embedding` layer and load data from pretrained `glove.vectors`\n",
        "glove_emb = nn.Embedding.from_pretrained(glove.vectors)\n",
        "\n",
        "#freeze the embedding layer weights. gradient, so they won't be updated during training\n",
        "#https://androidkt.com/pre-train-word-embedding-in-pytorch/\n",
        "glove_emb.weight.requires_grad = False;\n"
      ]
    },
    {
      "cell_type": "markdown",
      "metadata": {
        "id": "gSB62e49UKvM"
      },
      "source": [
        "### 4.2 Helper functions"
      ]
    },
    {
      "cell_type": "code",
      "execution_count": null,
      "metadata": {
        "id": "fEh7gXYxfT7p"
      },
      "outputs": [],
      "source": [
        "# Create batcher function\n",
        "\n",
        "class SummarysBatcher:\n",
        "    def __init__(self, summarys, batch_size=32, drop_last=False, shuffle=False):\n",
        "        # store summarys by length\n",
        "        self.summarys_by_length = {}\n",
        "        for label, words, ID in summarys:\n",
        "            # compute the length of the summarys\n",
        "            wlen = words.shape[0]\n",
        "            # put the summarys in the correct key inside self.summarys_by_length\n",
        "            if wlen not in self.summarys_by_length:\n",
        "                self.summarys_by_length[wlen] = []\n",
        "            self.summarys_by_length[wlen].append((words, label),)\n",
        "         \n",
        "        #  create a DataLoader for each set of summarys of the same length\n",
        "        self.loaders = {wlen : torch.utils.data.DataLoader(\n",
        "                                    summarys,\n",
        "                                    batch_size=batch_size,\n",
        "                                    shuffle=shuffle,\n",
        "                                    drop_last=drop_last) # omit last batch if smaller than batch_size\n",
        "            for wlen, summarys in self.summarys_by_length.items()}\n",
        "        \n",
        "    def __iter__(self): # called by Python to create an iterator\n",
        "        # make an iterator for every summary length\n",
        "        iters = [iter(loader) for loader in self.loaders.values()]\n",
        "        while iters:\n",
        "            # pick an iterator (a length)\n",
        "            im = random.choice(iters)\n",
        "            try:\n",
        "                yield next(im)\n",
        "            except StopIteration:\n",
        "                # no more elements in the iterator, remove it\n",
        "                iters.remove(im)"
      ]
    },
    {
      "cell_type": "code",
      "execution_count": null,
      "metadata": {
        "id": "aSJZ0yk9fTvf"
      },
      "outputs": [],
      "source": [
        "#train_loader\n",
        "train_loader = SummarysBatcher(train, batch_size=64, drop_last=True)\n",
        "\n",
        "#valid_loader\n",
        "valid_loader = SummarysBatcher(valid, batch_size=64, drop_last=False)\n",
        "\n",
        "#test_loader\n",
        "valid_loader = SummarysBatcher(test, batch_size=64, drop_last=False)"
      ]
    },
    {
      "cell_type": "code",
      "execution_count": null,
      "metadata": {
        "id": "Jr8uyqBsR63i"
      },
      "outputs": [],
      "source": [
        "# Create get_accuracy function\n",
        "\n",
        "def get_accuracy(model, data, batch_size):\n",
        "  # note: why should we use a larger batch size here?\n",
        "  loader = SummarysBatcher(data, batch_size=batch_size)\n",
        "\n",
        "  #model.eval() # annotate model for evaluation (why do we need to do this?)\n",
        "\n",
        "  correct = 0\n",
        "  total = 0\n",
        "  for text, labels in loader:\n",
        "      output = model(text)\n",
        "      pred = output.max(1, keepdim=True)[1]\n",
        "      correct += pred.eq(labels.view_as(pred)).sum().item()\n",
        "      total += text.shape[0]\n",
        "\n",
        "  return correct/total # TODO: return the model accuracy"
      ]
    },
    {
      "cell_type": "code",
      "execution_count": null,
      "metadata": {
        "id": "MrFj0BQyR9K-"
      },
      "outputs": [],
      "source": [
        "# Create train function\n",
        "\n",
        "def train_model(model, train_data, valid_data = None, batch_size=32, weight_decay=0.0,\n",
        "           learning_rate=0.001, num_epochs=7, checkpoint_path=None):\n",
        "    \n",
        "  \n",
        "  #training data\n",
        "    loader = SummarysBatcher(train_data, batch_size=batch_size, drop_last=True, shuffle=True)\n",
        "  #loss function\n",
        "    criterion = nn.CrossEntropyLoss()\n",
        "  #optimizer\n",
        "    optimizer = torch.optim.Adam(model.parameters(),\n",
        "                            lr=learning_rate,\n",
        "                            weight_decay=weight_decay)\n",
        "     \n",
        "    epochs, losses, train_acc, valid_acc = [], [], [], []\n",
        "\n",
        "    for epoch in range(num_epochs):\n",
        "        loss = 0\n",
        "        for text, labels in iter(loader):\n",
        "            #print(\"text: \", text, \"labels: \",labels)\n",
        "            optimizer.zero_grad()   \n",
        "            #model.train() #training\n",
        "            output = model(text) #forward\n",
        "            loss = criterion(output, labels)\n",
        "            loss.backward() #backward\n",
        "            optimizer.step()\n",
        "\n",
        "        epochs.append(epoch)\n",
        "        losses.append(float(loss))\n",
        "        train_acc.append(get_accuracy(model, train_data, batch_size))\n",
        "        if valid_data != None:\n",
        "            valid_acc.append(get_accuracy(model, valid_data, batch_size))\n",
        "            print(\"Epoch %d. [Loss %f] [Val Acc %.0f%%] [Train Acc %.0f%%]\" % (\n",
        "                epoch, loss, valid_acc[-1] * 100, train_acc[-1] * 100))\n",
        "        else:\n",
        "            print(\"Epoch %d. [Loss %f] [Train Acc %.0f%%]\" % (\n",
        "                epoch, loss, train_acc[-1] * 100))\n",
        "       \n",
        "        if checkpoint_path is not None:\n",
        "            torch.save(model.state_dict(), checkpoint_path.format(epoch))\n",
        "\n",
        "  #plotting\n",
        "    plt.title(\"Learning Curve\")\n",
        "    plt.plot(epochs, losses, label=\"Train\")\n",
        "    plt.xlabel(\"Epoch\")\n",
        "    plt.ylabel(\"Loss\")\n",
        "    plt.show()\n",
        "\n",
        "    plt.title(\"Learning Curve\")\n",
        "    plt.plot(epochs, train_acc, label=\"Train\")\n",
        "    if valid_data != None:\n",
        "        plt.plot(epochs, valid_acc, label=\"Validation\")\n",
        "    plt.xlabel(\"Epoch\")\n",
        "    plt.ylabel(\"Training Accuracy\")\n",
        "    plt.legend(loc='best')\n",
        "    plt.show()\n",
        "\n",
        "    print(\"Final Training Accuracy: {}\".format(train_acc[-1]*100))\n",
        "    if valid_data != None:\n",
        "        print(\"Final Validation Accuracy: {}\".format(valid_acc[-1]*100))"
      ]
    },
    {
      "cell_type": "markdown",
      "metadata": {
        "id": "FEDTarIwVhj-"
      },
      "source": [
        "### 4.3 Model Creation"
      ]
    },
    {
      "cell_type": "code",
      "execution_count": null,
      "metadata": {
        "id": "KAd_XcBwRrRo"
      },
      "outputs": [],
      "source": [
        "# Create Bidirectional LSTM\n",
        "\n",
        "class BiLSTM(nn.Module):\n",
        "  def __init__(self, input_size, hidden_size, num_layers, num_classes):\n",
        "    super(BiLSTM, self).__init__()\n",
        "    self.emb = nn.Embedding.from_pretrained(glove.vectors, freeze=False)\n",
        "    self.hidden_size = hidden_size\n",
        "    self.num_layers = num_layers\n",
        "    self.lstm = nn.LSTM(input_size, hidden_size, num_layers, batch_first=True,\n",
        "                        bidirectional=True)\n",
        "    self.fc = nn.Linear(hidden_size*2, num_classes)\n",
        "\n",
        "  def forward(self, x):\n",
        "    x = self.emb(x)\n",
        "\n",
        "    h0 = torch.zeros(self.num_layers*2, x.size(0), self.hidden_size)\n",
        "    c0 = torch.zeros(self.num_layers*2, x.size(0), self.hidden_size)\n",
        "\n",
        "    out, _ = self.lstm(x, (h0, c0))\n",
        "    out = self.fc(out[:, -1, :])\n",
        "\n",
        "    return out"
      ]
    },
    {
      "cell_type": "code",
      "execution_count": null,
      "metadata": {
        "colab": {
          "base_uri": "https://localhost:8080/",
          "height": 680
        },
        "id": "ZG-23rYzj-jl",
        "outputId": "e01145ff-acc7-4063-f580-f18eaf3776ed"
      },
      "outputs": [
        {
          "output_type": "stream",
          "name": "stdout",
          "text": [
            "Epoch 0. [Loss 1.236359] [Train Acc 85%]\n",
            "Epoch 1. [Loss 0.048232] [Train Acc 100%]\n",
            "Epoch 2. [Loss 0.010696] [Train Acc 100%]\n",
            "Epoch 3. [Loss 0.011093] [Train Acc 100%]\n",
            "Epoch 4. [Loss 0.031373] [Train Acc 100%]\n"
          ]
        },
        {
          "output_type": "display_data",
          "data": {
            "text/plain": [
              "<Figure size 432x288 with 1 Axes>"
            ],
            "image/png": "[encoded data removed]"
          },
          "metadata": {
            "needs_background": "light"
          }
        },
        {
          "output_type": "display_data",
          "data": {
            "text/plain": [
              "<Figure size 432x288 with 1 Axes>"
            ],
            "image/png": "[encoded data removed]"
          },
          "metadata": {
            "needs_background": "light"
          }
        },
        {
          "output_type": "stream",
          "name": "stdout",
          "text": [
            "Final Training Accuracy: 100.0\n"
          ]
        }
      ],
      "source": [
        "# Overfitting to a Small Dataset\n",
        "bi = BiLSTM(input_size = 50, hidden_size = 60, num_layers = 1, num_classes = 5)\n",
        "train_model(model=bi, train_data=small_dataset, batch_size=1, weight_decay=0, learning_rate=0.01, num_epochs=5, checkpoint_path=\"/content/gdrive/My Drive/CSC413/smalldata/ckpt-{}.pk\")"
      ]
    },
    {
      "cell_type": "markdown",
      "metadata": {
        "id": "8ARIsF61m2ih"
      },
      "source": [
        "<a name=\"Training-and-Hyperparameter-Tuning\"></a>\n",
        "## 5. Training and Hyperparameter Tuning"
      ]
    },
    {
      "cell_type": "code",
      "execution_count": null,
      "metadata": {
        "id": "CiySYuAYFWh2"
      },
      "outputs": [],
      "source": [
        "print(len(train))"
      ]
    },
    {
      "cell_type": "code",
      "source": [
        "bi = BiLSTM(input_size = 50, hidden_size = 60, num_layers = 1, num_classes = 5)\n",
        "train_model(model=bi, train_data=train, valid_data = valid,  batch_size= 1,weight_decay=0, learning_rate=0.01, num_epochs=10, checkpoint_path=\"/content/gdrive/My Drive/CSC413/fulltrain/ckpt-{}.pk\")"
      ],
      "metadata": {
        "colab": {
          "base_uri": "https://localhost:8080/",
          "height": 787
        },
        "id": "b4Jo3KpS98oR",
        "outputId": "7dbd28a9-3d64-4582-937e-58afb37984f4"
      },
      "execution_count": null,
      "outputs": [
        {
          "output_type": "stream",
          "name": "stdout",
          "text": [
            "Epoch 0. [Loss 2.516621] [Val Acc 29%] [Train Acc 41%]\n",
            "Epoch 1. [Loss 1.265344] [Val Acc 31%] [Train Acc 60%]\n",
            "Epoch 2. [Loss 1.871232] [Val Acc 36%] [Train Acc 76%]\n",
            "Epoch 3. [Loss 0.873533] [Val Acc 41%] [Train Acc 81%]\n",
            "Epoch 4. [Loss 0.872068] [Val Acc 39%] [Train Acc 89%]\n",
            "Epoch 5. [Loss 0.025353] [Val Acc 37%] [Train Acc 94%]\n",
            "Epoch 6. [Loss 0.001289] [Val Acc 37%] [Train Acc 95%]\n",
            "Epoch 7. [Loss 0.000000] [Val Acc 36%] [Train Acc 93%]\n",
            "Epoch 8. [Loss 0.000251] [Val Acc 39%] [Train Acc 96%]\n",
            "Epoch 9. [Loss 0.080971] [Val Acc 40%] [Train Acc 97%]\n"
          ]
        },
        {
          "output_type": "display_data",
          "data": {
            "text/plain": [
              "<Figure size 432x288 with 1 Axes>"
            ],
            "image/png": "[encoded data removed]"
          },
          "metadata": {
            "needs_background": "light"
          }
        },
        {
          "output_type": "display_data",
          "data": {
            "text/plain": [
              "<Figure size 432x288 with 1 Axes>"
            ],
            "image/png": "[encoded data removed]"
          },
          "metadata": {
            "needs_background": "light"
          }
        },
        {
          "output_type": "stream",
          "name": "stdout",
          "text": [
            "Final Training Accuracy: 97.06666666666666\n",
            "Final Validation Accuracy: 39.6\n"
          ]
        }
      ]
    },
    {
      "cell_type": "markdown",
      "metadata": {
        "id": "GMMneUY7nRbe"
      },
      "source": [
        "<a name=\"Results-and-Ethical-consideration\"></a>\n",
        "## 6. Results and Ethical consideration"
      ]
    },
    {
      "cell_type": "markdown",
      "metadata": {
        "id": "dVLM9KbXWKjq"
      },
      "source": [
        "### 6.1 Test Results"
      ]
    },
    {
      "cell_type": "code",
      "execution_count": null,
      "metadata": {
        "id": "5NoSSpPgngOE"
      },
      "outputs": [],
      "source": [
        "INCORRECT = []\n",
        "CORRECT = []\n",
        "\n",
        "def test_accuracy(model, data):\n",
        "  # note: why should we use a larger batch size here?\n",
        "  loader = SummarysBatcher(data, batch_size=1, shuffle=False)\n",
        "\n",
        "  correct = 0\n",
        "  total = 0\n",
        "  index = 0\n",
        "  for plots, labels in loader:\n",
        "      output = model(plots)\n",
        "      pred = output.max(1, keepdim=True)[1]\n",
        "      x = pred.eq(labels.view_as(pred)).sum().item()\n",
        "      if correct+x > correct:\n",
        "        CORRECT.append([index, pred, labels])\n",
        "      else:\n",
        "        INCORRECT.append([index, pred, labels])\n",
        "      correct+=x\n",
        "      total += plots.shape[0]\n",
        "      index+=1\n",
        "\n",
        "  return (correct/total) # TODO: return the model accuracy"
      ]
    },
    {
      "cell_type": "code",
      "source": [
        "bi = BiLSTM(input_size = 50, hidden_size = 60, num_layers = 1, num_classes = 5)\n",
        "bi.load_state_dict(torch.load('/content/gdrive/My Drive/CSC413-FinalProject/5genre/fulltrain/ckpt-9.pk'))\n",
        "print(\"Test accuracy for BiLSTM: \" + \n",
        "      str(test_accuracy(bi, test)*100)+\"%\")"
      ],
      "metadata": {
        "id": "QCOSdTjeHTR0",
        "colab": {
          "base_uri": "https://localhost:8080/"
        },
        "outputId": "96d63e0a-2602-449f-d323-435e6c36ef85"
      },
      "execution_count": null,
      "outputs": [
        {
          "output_type": "stream",
          "name": "stdout",
          "text": [
            "Test accuracy for BiLSTM: 35.0%\n"
          ]
        }
      ]
    },
    {
      "cell_type": "markdown",
      "source": [
        "Correctly classified example"
      ],
      "metadata": {
        "id": "5VKQOYedQ55I"
      }
    },
    {
      "cell_type": "code",
      "source": [
        "idx = CORRECT[0][0]\n",
        "MOVIE_ID = int(test[idx][2])\n",
        "predicted = int(CORRECT[0][1])\n",
        "label = int(CORRECT[0][2])\n",
        "\n",
        "print(\"True label: \" + genre_labels_itos[label])\n",
        "print(\"Plot: \") \n",
        "print(*movie_ID_to_title_plot[int(test[idx][2])])\n",
        "print(\"Predicted label: \" + genre_labels_itos[predicted])"
      ],
      "metadata": {
        "colab": {
          "base_uri": "https://localhost:8080/"
        },
        "id": "nqYNWZBiMKj5",
        "outputId": "def2a086-c2c2-428d-ffda-38b8b802189c"
      },
      "execution_count": null,
      "outputs": [
        {
          "output_type": "stream",
          "name": "stdout",
          "text": [
            "True label: Thriller\n",
            "Plot: \n",
            "The China Syndrome while visiting the ventana nuclear power plant outside los angeles  television news reporter kimberly wells   her maverick camerman richard adams  and their soundman hector salas witness the plant going through an emergency shutdown . shift supervisor jack godell  notices an unusual vibration while grabbing his cup of coffee which he had set down; then he finds that a gauge is misreading and that the coolant is dangerously low . the crew manages to bring the reactor under control. richard surreptitiously films the incident  despite being requested to not film the control room for security purposes. when he shows the film to experts  they realize that the plant came close to the china syndrome in which the core would have melted down into the earth  hitting groundwater and contaminating the surrounding area with radioactive steam. during an inspection of the plant before it's brought back online  a technician discovers a small puddle of radioactive water that has apparently leaked from a pump. godell pushes to delay restarting the plant  but the plant superintendent denies his request and appears willing to let nothing come in the way of the scheduled restart of the plant. godell investigates further and uncovers evidence that radiographs of welds on the leaking pump have been falsified . he believes that the plant is unsafe and could be severely damaged if another full-power scram occurs. he tries to bring the evidence to plant manager herman deyoung  who brushes godell off as paranoid and states that new radiographs would cost at least $20 million. godell confronts d.b. royce  an employee of foster-sullivan  the construction company who built the plant  as it was royce who signed off on the welding radiographs. when godell threatens to go to the nuclear regulatory commission  royce threatens him and a pair of goons from foster-sullivan park outside his house. kimberly and richard confront godell at his home with what they know  at which point  the engineer voices his concern about the vibration he felt during the scram and his anger about the false radiographs. kimberly and richard ask godell if he'll come clean at nrc hearings  being held at point conception  where foster-sullivan is looking to build another nuclear plant. godell tells them about the threat on his life  but agrees to get them  through hector  the false radiographs to take to the hearings. following the exchange though  hector is run off the road by company men and the radiographs are taken. godell leaves for the hearings but is chased by the goons out his house. he escapes by taking refuge in the plant. to his dismay  godell finds that the reactor is being brought up to full power. he grabs a gun from a security guard  forces everyone out  including his best friend and co-worker ted spindler   and demands to be interviewed on live television by kimberly. plant management agrees to the interview  which buys them time as they try to regain control of the plant. minutes into the broadcast  plant technicians deliberately cause a scram so they can retake the control room . while godell is distracted by the scram alarms a swat team forces its way into the control room. the television cable is cut and a panicky godell is shot by the police  but before he dies he feels the unusual vibration again. the resulting scram is only brought under control by the plant's automatic systems. true to godell's predictions  the plant suffers significant damage as the pump malfunctions. plant officials try to paint godell as emotionally disturbed  but ted states that godell would not have taken such drastic steps had there not been something wrong. the film ends with a tearful kimberly concluding her report as the reporter's live signal abruptly cuts to color bars.\n",
            "Predicted label: Thriller\n"
          ]
        }
      ]
    },
    {
      "cell_type": "markdown",
      "source": [
        "Incorrectly classified example"
      ],
      "metadata": {
        "id": "sZlFeKEqRHY9"
      }
    },
    {
      "cell_type": "code",
      "source": [
        "idx = INCORRECT[0][0]\n",
        "MOVIE_ID = int(test[idx][2])\n",
        "predicted = int(INCORRECT[0][1])\n",
        "label = int(INCORRECT[0][2])\n",
        "\n",
        "print(\"True label: \" + genre_labels_itos[label])\n",
        "print(\"Plot: \") \n",
        "print(*movie_ID_to_title_plot[int(test[idx][2])])\n",
        "print(\"Predicted label: \" + genre_labels_itos[predicted])"
      ],
      "metadata": {
        "colab": {
          "base_uri": "https://localhost:8080/"
        },
        "id": "5-Gf9PubNiWk",
        "outputId": "b968198a-2e0a-489d-866a-6da8e9d03598"
      },
      "execution_count": null,
      "outputs": [
        {
          "output_type": "stream",
          "name": "stdout",
          "text": [
            "True label: Crime Fiction\n",
            "Plot: \n",
            "The Woman Knight of Mirror Lake the film tells the story of qiu jin and her involvement in revolutionary uprisings against the qing dynasty in anhui province. influences on her life are shown through a series of flashbacks. as a child  qiu jin resisted having her feet bound according to common practice  and instead pursued her interests to learn horse riding  martial arts and literature with her father and brother. through her poetry  she expresses the her sorrow at the weak state of the nation and the repression of women. finding other like minded women in beijing and then travelling to japan to study reinforces her view that nationalist action is required to reform china. returning to china  qiu jin takes the position as xu xilin's lieutenant  assisting with the training of revolutionaries at the datong school and plotting the revolution. xu xilin is later captured while executing the assassination of the governor  and qiu jin is captured when government forces storm the datong school. qiu jin is tortured in an attempt to reveal other conspirators and she is later executed.\n",
            "Predicted label: Short Film\n"
          ]
        }
      ]
    }
  ],
  "metadata": {
    "accelerator": "GPU",
    "colab": {
      "collapsed_sections": [],
      "name": "Project 5grens.ipynb",
      "provenance": []
    },
    "kernelspec": {
      "display_name": "Python 3",
      "name": "python3"
    },
    "language_info": {
      "name": "python"
    }
  },
  "nbformat": 4,
  "nbformat_minor": 0
}